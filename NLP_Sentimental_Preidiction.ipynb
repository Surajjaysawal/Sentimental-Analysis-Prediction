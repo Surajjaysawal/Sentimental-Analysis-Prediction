{
  "nbformat": 4,
  "nbformat_minor": 0,
  "metadata": {
    "colab": {
      "name": "NLP Sentimental_Preidiction.ipynb",
      "provenance": [],
      "collapsed_sections": []
    },
    "kernelspec": {
      "name": "python3",
      "display_name": "Python 3"
    },
    "accelerator": "GPU"
  },
  "cells": [
    {
      "cell_type": "code",
      "metadata": {
        "id": "p-RifSPQFXN-"
      },
      "source": [
        "import pandas as pd \r\n",
        "import matplotlib.pyplot as plt\r\n",
        "%matplotlib inline\r\n",
        "import numpy as np\r\n",
        "import keras\r\n",
        "from keras.preprocessing.text import Tokenizer\r\n",
        "from keras.preprocessing.sequence import pad_sequences\r\n",
        "from keras.utils import to_categorical\r\n",
        "from sklearn.metrics import classification_report\r\n",
        "\r\n",
        "from keras.models import Sequential\r\n",
        "from keras.layers import LSTM,Bidirectional,Dense,Embedding,Dropout"
      ],
      "execution_count": 1,
      "outputs": []
    },
    {
      "cell_type": "code",
      "metadata": {
        "id": "B92_tr5eGKd_",
        "colab": {
          "base_uri": "https://localhost:8080/",
          "height": 195
        },
        "outputId": "c53c4611-cef8-4e15-cf25-817f291e0a2a"
      },
      "source": [
        "train_data = pd.read_csv('train.txt',header =None, sep =';', names = ['Input','Sentiment'], encoding='utf-8')\r\n",
        "train_data.head()"
      ],
      "execution_count": 2,
      "outputs": [
        {
          "output_type": "execute_result",
          "data": {
            "text/html": [
              "<div>\n",
              "<style scoped>\n",
              "    .dataframe tbody tr th:only-of-type {\n",
              "        vertical-align: middle;\n",
              "    }\n",
              "\n",
              "    .dataframe tbody tr th {\n",
              "        vertical-align: top;\n",
              "    }\n",
              "\n",
              "    .dataframe thead th {\n",
              "        text-align: right;\n",
              "    }\n",
              "</style>\n",
              "<table border=\"1\" class=\"dataframe\">\n",
              "  <thead>\n",
              "    <tr style=\"text-align: right;\">\n",
              "      <th></th>\n",
              "      <th>Input</th>\n",
              "      <th>Sentiment</th>\n",
              "    </tr>\n",
              "  </thead>\n",
              "  <tbody>\n",
              "    <tr>\n",
              "      <th>0</th>\n",
              "      <td>i didnt feel humiliated</td>\n",
              "      <td>sadness</td>\n",
              "    </tr>\n",
              "    <tr>\n",
              "      <th>1</th>\n",
              "      <td>i can go from feeling so hopeless to so damned...</td>\n",
              "      <td>sadness</td>\n",
              "    </tr>\n",
              "    <tr>\n",
              "      <th>2</th>\n",
              "      <td>im grabbing a minute to post i feel greedy wrong</td>\n",
              "      <td>anger</td>\n",
              "    </tr>\n",
              "    <tr>\n",
              "      <th>3</th>\n",
              "      <td>i am ever feeling nostalgic about the fireplac...</td>\n",
              "      <td>love</td>\n",
              "    </tr>\n",
              "    <tr>\n",
              "      <th>4</th>\n",
              "      <td>i am feeling grouchy</td>\n",
              "      <td>anger</td>\n",
              "    </tr>\n",
              "  </tbody>\n",
              "</table>\n",
              "</div>"
            ],
            "text/plain": [
              "                                               Input Sentiment\n",
              "0                            i didnt feel humiliated   sadness\n",
              "1  i can go from feeling so hopeless to so damned...   sadness\n",
              "2   im grabbing a minute to post i feel greedy wrong     anger\n",
              "3  i am ever feeling nostalgic about the fireplac...      love\n",
              "4                               i am feeling grouchy     anger"
            ]
          },
          "metadata": {
            "tags": []
          },
          "execution_count": 2
        }
      ]
    },
    {
      "cell_type": "code",
      "metadata": {
        "id": "XFun9VK2Ji8h",
        "colab": {
          "base_uri": "https://localhost:8080/",
          "height": 195
        },
        "outputId": "be0d6883-1d02-47f4-ebef-77ee23b1a7f9"
      },
      "source": [
        "test_data = pd.read_csv('test.txt',header=None, sep=';', names= ['Input','Sentiment'], encoding='utf-8')\r\n",
        "test_data.head()"
      ],
      "execution_count": 3,
      "outputs": [
        {
          "output_type": "execute_result",
          "data": {
            "text/html": [
              "<div>\n",
              "<style scoped>\n",
              "    .dataframe tbody tr th:only-of-type {\n",
              "        vertical-align: middle;\n",
              "    }\n",
              "\n",
              "    .dataframe tbody tr th {\n",
              "        vertical-align: top;\n",
              "    }\n",
              "\n",
              "    .dataframe thead th {\n",
              "        text-align: right;\n",
              "    }\n",
              "</style>\n",
              "<table border=\"1\" class=\"dataframe\">\n",
              "  <thead>\n",
              "    <tr style=\"text-align: right;\">\n",
              "      <th></th>\n",
              "      <th>Input</th>\n",
              "      <th>Sentiment</th>\n",
              "    </tr>\n",
              "  </thead>\n",
              "  <tbody>\n",
              "    <tr>\n",
              "      <th>0</th>\n",
              "      <td>im feeling rather rotten so im not very ambiti...</td>\n",
              "      <td>sadness</td>\n",
              "    </tr>\n",
              "    <tr>\n",
              "      <th>1</th>\n",
              "      <td>im updating my blog because i feel shitty</td>\n",
              "      <td>sadness</td>\n",
              "    </tr>\n",
              "    <tr>\n",
              "      <th>2</th>\n",
              "      <td>i never make her separate from me because i do...</td>\n",
              "      <td>sadness</td>\n",
              "    </tr>\n",
              "    <tr>\n",
              "      <th>3</th>\n",
              "      <td>i left with my bouquet of red and yellow tulip...</td>\n",
              "      <td>joy</td>\n",
              "    </tr>\n",
              "    <tr>\n",
              "      <th>4</th>\n",
              "      <td>i was feeling a little vain when i did this one</td>\n",
              "      <td>sadness</td>\n",
              "    </tr>\n",
              "  </tbody>\n",
              "</table>\n",
              "</div>"
            ],
            "text/plain": [
              "                                               Input Sentiment\n",
              "0  im feeling rather rotten so im not very ambiti...   sadness\n",
              "1          im updating my blog because i feel shitty   sadness\n",
              "2  i never make her separate from me because i do...   sadness\n",
              "3  i left with my bouquet of red and yellow tulip...       joy\n",
              "4    i was feeling a little vain when i did this one   sadness"
            ]
          },
          "metadata": {
            "tags": []
          },
          "execution_count": 3
        }
      ]
    },
    {
      "cell_type": "code",
      "metadata": {
        "colab": {
          "base_uri": "https://localhost:8080/",
          "height": 195
        },
        "id": "sQzT56FTS_0F",
        "outputId": "4fa80588-c334-44c4-ec62-188a96b2f2e5"
      },
      "source": [
        "val_data = pd.read_csv('val.txt', header=None,sep=';', names=['Input','Sentiment'], encoding='utf-8')\r\n",
        "val_data.head()"
      ],
      "execution_count": 4,
      "outputs": [
        {
          "output_type": "execute_result",
          "data": {
            "text/html": [
              "<div>\n",
              "<style scoped>\n",
              "    .dataframe tbody tr th:only-of-type {\n",
              "        vertical-align: middle;\n",
              "    }\n",
              "\n",
              "    .dataframe tbody tr th {\n",
              "        vertical-align: top;\n",
              "    }\n",
              "\n",
              "    .dataframe thead th {\n",
              "        text-align: right;\n",
              "    }\n",
              "</style>\n",
              "<table border=\"1\" class=\"dataframe\">\n",
              "  <thead>\n",
              "    <tr style=\"text-align: right;\">\n",
              "      <th></th>\n",
              "      <th>Input</th>\n",
              "      <th>Sentiment</th>\n",
              "    </tr>\n",
              "  </thead>\n",
              "  <tbody>\n",
              "    <tr>\n",
              "      <th>0</th>\n",
              "      <td>im feeling quite sad and sorry for myself but ...</td>\n",
              "      <td>sadness</td>\n",
              "    </tr>\n",
              "    <tr>\n",
              "      <th>1</th>\n",
              "      <td>i feel like i am still looking at a blank canv...</td>\n",
              "      <td>sadness</td>\n",
              "    </tr>\n",
              "    <tr>\n",
              "      <th>2</th>\n",
              "      <td>i feel like a faithful servant</td>\n",
              "      <td>love</td>\n",
              "    </tr>\n",
              "    <tr>\n",
              "      <th>3</th>\n",
              "      <td>i am just feeling cranky and blue</td>\n",
              "      <td>anger</td>\n",
              "    </tr>\n",
              "    <tr>\n",
              "      <th>4</th>\n",
              "      <td>i can have for a treat or if i am feeling festive</td>\n",
              "      <td>joy</td>\n",
              "    </tr>\n",
              "  </tbody>\n",
              "</table>\n",
              "</div>"
            ],
            "text/plain": [
              "                                               Input Sentiment\n",
              "0  im feeling quite sad and sorry for myself but ...   sadness\n",
              "1  i feel like i am still looking at a blank canv...   sadness\n",
              "2                     i feel like a faithful servant      love\n",
              "3                  i am just feeling cranky and blue     anger\n",
              "4  i can have for a treat or if i am feeling festive       joy"
            ]
          },
          "metadata": {
            "tags": []
          },
          "execution_count": 4
        }
      ]
    },
    {
      "cell_type": "code",
      "metadata": {
        "colab": {
          "base_uri": "https://localhost:8080/"
        },
        "id": "dxQme_wwTYxT",
        "outputId": "b4500b05-3c67-4432-d5ca-938b776ca70b"
      },
      "source": [
        "print(train_data.isnull().sum())\r\n",
        "print(test_data.isnull().sum())\r\n",
        "print(val_data.isnull().sum())"
      ],
      "execution_count": 5,
      "outputs": [
        {
          "output_type": "stream",
          "text": [
            "Input        0\n",
            "Sentiment    0\n",
            "dtype: int64\n",
            "Input        0\n",
            "Sentiment    0\n",
            "dtype: int64\n",
            "Input        0\n",
            "Sentiment    0\n",
            "dtype: int64\n"
          ],
          "name": "stdout"
        }
      ]
    },
    {
      "cell_type": "code",
      "metadata": {
        "colab": {
          "base_uri": "https://localhost:8080/"
        },
        "id": "hYS94uvGVmbM",
        "outputId": "b9d78e95-5490-4f48-c991-f0d0d6ffa929"
      },
      "source": [
        "train_data.Sentiment.value_counts()"
      ],
      "execution_count": 6,
      "outputs": [
        {
          "output_type": "execute_result",
          "data": {
            "text/plain": [
              "joy         5362\n",
              "sadness     4666\n",
              "anger       2159\n",
              "fear        1937\n",
              "love        1304\n",
              "surprise     572\n",
              "Name: Sentiment, dtype: int64"
            ]
          },
          "metadata": {
            "tags": []
          },
          "execution_count": 6
        }
      ]
    },
    {
      "cell_type": "code",
      "metadata": {
        "colab": {
          "base_uri": "https://localhost:8080/"
        },
        "id": "YozoWFHGVmde",
        "outputId": "6953137b-265c-46ad-bfc2-b2e5e688345d"
      },
      "source": [
        "train_data.Input"
      ],
      "execution_count": 7,
      "outputs": [
        {
          "output_type": "execute_result",
          "data": {
            "text/plain": [
              "0                                  i didnt feel humiliated\n",
              "1        i can go from feeling so hopeless to so damned...\n",
              "2         im grabbing a minute to post i feel greedy wrong\n",
              "3        i am ever feeling nostalgic about the fireplac...\n",
              "4                                     i am feeling grouchy\n",
              "                               ...                        \n",
              "15995    i just had a very brief time in the beanbag an...\n",
              "15996    i am now turning and i feel pathetic that i am...\n",
              "15997                       i feel strong and good overall\n",
              "15998    i feel like this was such a rude comment and i...\n",
              "15999    i know a lot but i feel so stupid because i ca...\n",
              "Name: Input, Length: 16000, dtype: object"
            ]
          },
          "metadata": {
            "tags": []
          },
          "execution_count": 7
        }
      ]
    },
    {
      "cell_type": "code",
      "metadata": {
        "id": "SzmyAAB5jOCC"
      },
      "source": [
        ""
      ],
      "execution_count": 7,
      "outputs": []
    },
    {
      "cell_type": "code",
      "metadata": {
        "id": "1lHfznh_ae8G"
      },
      "source": [
        "tokenizer=Tokenizer(16000,lower=True,oov_token='UNK')\r\n",
        "tokenizer.fit_on_texts(train_data.Input)"
      ],
      "execution_count": 8,
      "outputs": []
    },
    {
      "cell_type": "code",
      "metadata": {
        "id": "O25jSS-AbOiW"
      },
      "source": [
        "X_train=tokenizer.texts_to_sequences(train_data.Input)\r\n",
        "X_train_pad=pad_sequences(X_train,maxlen=80,padding='post')"
      ],
      "execution_count": 9,
      "outputs": []
    },
    {
      "cell_type": "code",
      "metadata": {
        "colab": {
          "base_uri": "https://localhost:8080/"
        },
        "id": "khCzckqOhQ0p",
        "outputId": "7d999a2b-ca31-46f2-a8f5-d5372e562de5"
      },
      "source": [
        "train_data['Sentiment']= train_data.Sentiment.replace({'joy':0,'anger':1,'love':2,'sadness':3,'fear':4,'surprise':5})\r\n",
        "y_train = train_data['Sentiment'].values\r\n",
        "y_train"
      ],
      "execution_count": 10,
      "outputs": [
        {
          "output_type": "execute_result",
          "data": {
            "text/plain": [
              "array([3, 3, 1, ..., 0, 1, 3])"
            ]
          },
          "metadata": {
            "tags": []
          },
          "execution_count": 10
        }
      ]
    },
    {
      "cell_type": "code",
      "metadata": {
        "colab": {
          "base_uri": "https://localhost:8080/"
        },
        "id": "AIdgf3qPf6OR",
        "outputId": "4bbfe953-5ce0-48c9-9aec-3458225fd7e6"
      },
      "source": [
        "y_train_f=to_categorical(y_train)\r\n",
        "y_train_f"
      ],
      "execution_count": 11,
      "outputs": [
        {
          "output_type": "execute_result",
          "data": {
            "text/plain": [
              "array([[0., 0., 0., 1., 0., 0.],\n",
              "       [0., 0., 0., 1., 0., 0.],\n",
              "       [0., 1., 0., 0., 0., 0.],\n",
              "       ...,\n",
              "       [1., 0., 0., 0., 0., 0.],\n",
              "       [0., 1., 0., 0., 0., 0.],\n",
              "       [0., 0., 0., 1., 0., 0.]], dtype=float32)"
            ]
          },
          "metadata": {
            "tags": []
          },
          "execution_count": 11
        }
      ]
    },
    {
      "cell_type": "code",
      "metadata": {
        "id": "btnFJH9giC-Q"
      },
      "source": [
        ""
      ],
      "execution_count": 11,
      "outputs": []
    },
    {
      "cell_type": "code",
      "metadata": {
        "id": "eKrEgxb0iDAi"
      },
      "source": [
        "x_val_data=val_data['Input']\r\n",
        "y_val_data=val_data.Sentiment.replace({'joy':0,'anger':1,'love':2,'sadness':3,'fear':4,'surprise':5})\r\n",
        "\r\n",
        "X_val_=tokenizer.texts_to_sequences(x_val_data)\r\n",
        "X_val_pad=pad_sequences(X_val_,maxlen=80,padding='post')\r\n"
      ],
      "execution_count": 12,
      "outputs": []
    },
    {
      "cell_type": "code",
      "metadata": {
        "colab": {
          "base_uri": "https://localhost:8080/"
        },
        "id": "YC7vphwsiDFI",
        "outputId": "8ff4a1ac-70cf-4fb7-e1b8-eb06db667cee"
      },
      "source": [
        "Y_val_= to_categorical(y_val_data)\r\n",
        "Y_val_"
      ],
      "execution_count": 13,
      "outputs": [
        {
          "output_type": "execute_result",
          "data": {
            "text/plain": [
              "array([[0., 0., 0., 1., 0., 0.],\n",
              "       [0., 0., 0., 1., 0., 0.],\n",
              "       [0., 0., 1., 0., 0., 0.],\n",
              "       ...,\n",
              "       [1., 0., 0., 0., 0., 0.],\n",
              "       [1., 0., 0., 0., 0., 0.],\n",
              "       [1., 0., 0., 0., 0., 0.]], dtype=float32)"
            ]
          },
          "metadata": {
            "tags": []
          },
          "execution_count": 13
        }
      ]
    },
    {
      "cell_type": "code",
      "metadata": {
        "colab": {
          "base_uri": "https://localhost:8080/"
        },
        "id": "0dCuE37wkhBP",
        "outputId": "3eb37ba7-ab6d-405e-ad86-676279bfac24"
      },
      "source": [
        "model = Sequential()\r\n",
        "model.add(Embedding(16000,64, input_length=80))\r\n",
        "model.add(Dropout(0.3))\r\n",
        "model.add(Bidirectional(LSTM(80, return_sequences=True)))\r\n",
        "model.add(Bidirectional(LSTM(160)))\r\n",
        "model.add(Dense(6,activation='softmax'))\r\n",
        "print(model.summary())\r\n"
      ],
      "execution_count": 14,
      "outputs": [
        {
          "output_type": "stream",
          "text": [
            "Model: \"sequential\"\n",
            "_________________________________________________________________\n",
            "Layer (type)                 Output Shape              Param #   \n",
            "=================================================================\n",
            "embedding (Embedding)        (None, 80, 64)            1024000   \n",
            "_________________________________________________________________\n",
            "dropout (Dropout)            (None, 80, 64)            0         \n",
            "_________________________________________________________________\n",
            "bidirectional (Bidirectional (None, 80, 160)           92800     \n",
            "_________________________________________________________________\n",
            "bidirectional_1 (Bidirection (None, 320)               410880    \n",
            "_________________________________________________________________\n",
            "dense (Dense)                (None, 6)                 1926      \n",
            "=================================================================\n",
            "Total params: 1,529,606\n",
            "Trainable params: 1,529,606\n",
            "Non-trainable params: 0\n",
            "_________________________________________________________________\n",
            "None\n"
          ],
          "name": "stdout"
        }
      ]
    },
    {
      "cell_type": "code",
      "metadata": {
        "id": "u8ntv2xIkhDj"
      },
      "source": [
        "model.compile(optimizer='adam',loss='categorical_crossentropy',metrics=['accuracy'])"
      ],
      "execution_count": 15,
      "outputs": []
    },
    {
      "cell_type": "code",
      "metadata": {
        "colab": {
          "base_uri": "https://localhost:8080/"
        },
        "id": "oJARfJmbmgKo",
        "outputId": "6d3379b6-1744-4b4a-97b3-863994b73192"
      },
      "source": [
        "Emoji = model.fit(x=X_train_pad,y=y_train_f, epochs=16, validation_data=(X_val_pad,Y_val_))"
      ],
      "execution_count": 17,
      "outputs": [
        {
          "output_type": "stream",
          "text": [
            "Epoch 1/16\n",
            "500/500 [==============================] - 12s 24ms/step - loss: 0.0343 - accuracy: 0.9876 - val_loss: 0.3087 - val_accuracy: 0.9230\n",
            "Epoch 2/16\n",
            "500/500 [==============================] - 12s 25ms/step - loss: 0.0321 - accuracy: 0.9874 - val_loss: 0.2821 - val_accuracy: 0.9285\n",
            "Epoch 3/16\n",
            "500/500 [==============================] - 12s 25ms/step - loss: 0.0313 - accuracy: 0.9885 - val_loss: 0.2984 - val_accuracy: 0.9255\n",
            "Epoch 4/16\n",
            "500/500 [==============================] - 12s 25ms/step - loss: 0.0312 - accuracy: 0.9886 - val_loss: 0.2747 - val_accuracy: 0.9275\n",
            "Epoch 5/16\n",
            "500/500 [==============================] - 12s 24ms/step - loss: 0.0293 - accuracy: 0.9898 - val_loss: 0.2864 - val_accuracy: 0.9250\n",
            "Epoch 6/16\n",
            "500/500 [==============================] - 13s 25ms/step - loss: 0.0266 - accuracy: 0.9903 - val_loss: 0.2380 - val_accuracy: 0.9300\n",
            "Epoch 7/16\n",
            "500/500 [==============================] - 12s 25ms/step - loss: 0.0227 - accuracy: 0.9914 - val_loss: 0.2781 - val_accuracy: 0.9200\n",
            "Epoch 8/16\n",
            "500/500 [==============================] - 12s 25ms/step - loss: 0.0259 - accuracy: 0.9902 - val_loss: 0.2692 - val_accuracy: 0.9230\n",
            "Epoch 9/16\n",
            "500/500 [==============================] - 13s 25ms/step - loss: 0.0196 - accuracy: 0.9923 - val_loss: 0.2975 - val_accuracy: 0.9275\n",
            "Epoch 10/16\n",
            "500/500 [==============================] - 13s 25ms/step - loss: 0.0233 - accuracy: 0.9918 - val_loss: 0.2756 - val_accuracy: 0.9245\n",
            "Epoch 11/16\n",
            "500/500 [==============================] - 13s 25ms/step - loss: 0.0199 - accuracy: 0.9919 - val_loss: 0.2659 - val_accuracy: 0.9280\n",
            "Epoch 12/16\n",
            "500/500 [==============================] - 12s 24ms/step - loss: 0.0172 - accuracy: 0.9937 - val_loss: 0.2772 - val_accuracy: 0.9270\n",
            "Epoch 13/16\n",
            "500/500 [==============================] - 12s 24ms/step - loss: 0.0140 - accuracy: 0.9942 - val_loss: 0.3147 - val_accuracy: 0.9315\n",
            "Epoch 14/16\n",
            "500/500 [==============================] - 12s 25ms/step - loss: 0.0176 - accuracy: 0.9928 - val_loss: 0.2831 - val_accuracy: 0.9305\n",
            "Epoch 15/16\n",
            "500/500 [==============================] - 12s 25ms/step - loss: 0.0149 - accuracy: 0.9939 - val_loss: 0.3002 - val_accuracy: 0.9285\n",
            "Epoch 16/16\n",
            "500/500 [==============================] - 12s 25ms/step - loss: 0.0170 - accuracy: 0.9938 - val_loss: 0.2980 - val_accuracy: 0.9355\n"
          ],
          "name": "stdout"
        }
      ]
    },
    {
      "cell_type": "code",
      "metadata": {
        "id": "GTw-H-2injd6"
      },
      "source": [
        ""
      ],
      "execution_count": 16,
      "outputs": []
    },
    {
      "cell_type": "code",
      "metadata": {
        "id": "NC-0Xl4fpnvx"
      },
      "source": [
        "X_test=test_data['Input']\r\n",
        "Y_test=test_data.Sentiment.replace({'joy':0,'anger':1,'love':2,'sadness':3,'fear':4,'surprise':5})\r\n"
      ],
      "execution_count": 18,
      "outputs": []
    },
    {
      "cell_type": "code",
      "metadata": {
        "colab": {
          "base_uri": "https://localhost:8080/"
        },
        "id": "UK_6aIEIpnym",
        "outputId": "53f26245-c370-43d1-84dc-a586e7b3e6a1"
      },
      "source": [
        "X_test_f=tokenizer.texts_to_sequences(X_test)\r\n",
        "X_test_pad=pad_sequences(X_test_f,maxlen=80,padding='post')\r\n",
        "X_test_pad"
      ],
      "execution_count": 21,
      "outputs": [
        {
          "output_type": "execute_result",
          "data": {
            "text/plain": [
              "array([[   17,     8,   203, ...,     0,     0,     0],\n",
              "       [   17, 12800,    11, ...,     0,     0,     0],\n",
              "       [    2,   145,    80, ...,     0,     0,     0],\n",
              "       ...,\n",
              "       [    2,     3,     9, ...,     0,     0,     0],\n",
              "       [   17,     8,    38, ...,     0,     0,     0],\n",
              "       [    2,     3,    36, ...,     0,     0,     0]], dtype=int32)"
            ]
          },
          "metadata": {
            "tags": []
          },
          "execution_count": 21
        }
      ]
    },
    {
      "cell_type": "code",
      "metadata": {
        "colab": {
          "base_uri": "https://localhost:8080/"
        },
        "id": "MvbOx8zep2nz",
        "outputId": "c3777304-ee56-406a-e65f-e3e015e3b118"
      },
      "source": [
        "Y_test_f=to_categorical(Y_test)\r\n",
        "Y_test_f"
      ],
      "execution_count": 20,
      "outputs": [
        {
          "output_type": "execute_result",
          "data": {
            "text/plain": [
              "array([[0., 0., 0., 1., 0., 0.],\n",
              "       [0., 0., 0., 1., 0., 0.],\n",
              "       [0., 0., 0., 1., 0., 0.],\n",
              "       ...,\n",
              "       [1., 0., 0., 0., 0., 0.],\n",
              "       [1., 0., 0., 0., 0., 0.],\n",
              "       [0., 0., 0., 0., 1., 0.]], dtype=float32)"
            ]
          },
          "metadata": {
            "tags": []
          },
          "execution_count": 20
        }
      ]
    },
    {
      "cell_type": "code",
      "metadata": {
        "colab": {
          "base_uri": "https://localhost:8080/"
        },
        "id": "2mseslVlp_b5",
        "outputId": "9e0f65de-6258-4160-ba56-51a69f2a2454"
      },
      "source": [
        "model.evaluate(X_test_pad,Y_test_f)"
      ],
      "execution_count": 22,
      "outputs": [
        {
          "output_type": "stream",
          "text": [
            "63/63 [==============================] - 1s 11ms/step - loss: 0.3186 - accuracy: 0.9265\n"
          ],
          "name": "stdout"
        },
        {
          "output_type": "execute_result",
          "data": {
            "text/plain": [
              "[0.3185918927192688, 0.9265000224113464]"
            ]
          },
          "metadata": {
            "tags": []
          },
          "execution_count": 22
        }
      ]
    },
    {
      "cell_type": "code",
      "metadata": {
        "id": "BKFMZN2TqTL_"
      },
      "source": [
        ""
      ],
      "execution_count": null,
      "outputs": []
    },
    {
      "cell_type": "code",
      "metadata": {
        "colab": {
          "base_uri": "https://localhost:8080/"
        },
        "id": "_8n8SKePq34u",
        "outputId": "51ade632-54a7-4a53-886d-929c1fb60e58"
      },
      "source": [
        "Y_pred=model.predict_classes(X_test_pad)\r\n",
        "Y_pred"
      ],
      "execution_count": 25,
      "outputs": [
        {
          "output_type": "stream",
          "text": [
            "/usr/local/lib/python3.6/dist-packages/tensorflow/python/keras/engine/sequential.py:450: UserWarning: `model.predict_classes()` is deprecated and will be removed after 2021-01-01. Please use instead:* `np.argmax(model.predict(x), axis=-1)`,   if your model does multi-class classification   (e.g. if it uses a `softmax` last-layer activation).* `(model.predict(x) > 0.5).astype(\"int32\")`,   if your model does binary classification   (e.g. if it uses a `sigmoid` last-layer activation).\n",
            "  warnings.warn('`model.predict_classes()` is deprecated and '\n"
          ],
          "name": "stderr"
        },
        {
          "output_type": "execute_result",
          "data": {
            "text/plain": [
              "array([3, 3, 3, ..., 0, 0, 4])"
            ]
          },
          "metadata": {
            "tags": []
          },
          "execution_count": 25
        }
      ]
    },
    {
      "cell_type": "code",
      "metadata": {
        "id": "7pjxm7rlq362"
      },
      "source": [
        ""
      ],
      "execution_count": null,
      "outputs": []
    },
    {
      "cell_type": "code",
      "metadata": {
        "colab": {
          "base_uri": "https://localhost:8080/"
        },
        "id": "4nFyIh0jqWdO",
        "outputId": "40d62a2a-ccbd-47fd-cd8f-53b3c26c1a3c"
      },
      "source": [
        "print(classification_report(Y_test,Y_pred))"
      ],
      "execution_count": 27,
      "outputs": [
        {
          "output_type": "stream",
          "text": [
            "              precision    recall  f1-score   support\n",
            "\n",
            "           0       0.93      0.95      0.94       695\n",
            "           1       0.96      0.91      0.94       275\n",
            "           2       0.83      0.81      0.82       159\n",
            "           3       0.96      0.98      0.97       581\n",
            "           4       0.90      0.87      0.88       224\n",
            "           5       0.77      0.76      0.76        66\n",
            "\n",
            "    accuracy                           0.93      2000\n",
            "   macro avg       0.89      0.88      0.89      2000\n",
            "weighted avg       0.93      0.93      0.93      2000\n",
            "\n"
          ],
          "name": "stdout"
        }
      ]
    },
    {
      "cell_type": "code",
      "metadata": {
        "id": "_O3egOtYrHXb"
      },
      "source": [
        ""
      ],
      "execution_count": null,
      "outputs": []
    },
    {
      "cell_type": "code",
      "metadata": {
        "id": "K0ji7f0crPBf"
      },
      "source": [
        ""
      ],
      "execution_count": null,
      "outputs": []
    },
    {
      "cell_type": "code",
      "metadata": {
        "id": "qP3FTdm9rPEE"
      },
      "source": [
        ""
      ],
      "execution_count": null,
      "outputs": []
    },
    {
      "cell_type": "markdown",
      "metadata": {
        "id": "0b2CFiYFrxVa"
      },
      "source": [
        "DEFINE A FUNCUTION THAT PREDICT YOUR ENTER WORD OR SENTENCSE"
      ]
    },
    {
      "cell_type": "code",
      "metadata": {
        "id": "ZYQx12O3rPGs"
      },
      "source": [
        "def get_key(value):\r\n",
        "    dictionary={'joy':0,'anger':1,'love':2,'sadness':3,'fear':4,'surprise':5}\r\n",
        "    for key,val in dictionary.items():\r\n",
        "          if (val==value):\r\n",
        "            return key"
      ],
      "execution_count": 28,
      "outputs": []
    },
    {
      "cell_type": "code",
      "metadata": {
        "id": "M9YSqeynrPJX"
      },
      "source": [
        "def predict(sentence):\r\n",
        "  sentence_lst=[]\r\n",
        "  sentence_lst.append(sentence)\r\n",
        "  sentence_seq=tokenizer.texts_to_sequences(sentence_lst)\r\n",
        "  sentence_padded=pad_sequences(sentence_seq,maxlen=80,padding='post')\r\n",
        "  ans=get_key(model.predict_classes(sentence_padded))\r\n",
        "  print(\"The emotion predicted is\",ans)\r\n"
      ],
      "execution_count": 29,
      "outputs": []
    },
    {
      "cell_type": "code",
      "metadata": {
        "colab": {
          "base_uri": "https://localhost:8080/"
        },
        "id": "ikSRHMT0rPLU",
        "outputId": "17f92424-9db0-48df-b9fa-4baa563a3e19"
      },
      "source": [
        "predict(str(input('Enter a sentence : ')))"
      ],
      "execution_count": 30,
      "outputs": [
        {
          "output_type": "stream",
          "text": [
            "Enter a sentence : I REALLY LOVE YOU \n",
            "The emotion predicted is joy\n"
          ],
          "name": "stdout"
        },
        {
          "output_type": "stream",
          "text": [
            "/usr/local/lib/python3.6/dist-packages/tensorflow/python/keras/engine/sequential.py:450: UserWarning: `model.predict_classes()` is deprecated and will be removed after 2021-01-01. Please use instead:* `np.argmax(model.predict(x), axis=-1)`,   if your model does multi-class classification   (e.g. if it uses a `softmax` last-layer activation).* `(model.predict(x) > 0.5).astype(\"int32\")`,   if your model does binary classification   (e.g. if it uses a `sigmoid` last-layer activation).\n",
            "  warnings.warn('`model.predict_classes()` is deprecated and '\n"
          ],
          "name": "stderr"
        }
      ]
    },
    {
      "cell_type": "code",
      "metadata": {
        "colab": {
          "base_uri": "https://localhost:8080/"
        },
        "id": "m1DyMLpSrPNx",
        "outputId": "da243517-6bce-45cf-9669-82b1bab8e5a7"
      },
      "source": [
        "predict(str(input('Enter a sentence : ')))\r\n"
      ],
      "execution_count": 33,
      "outputs": [
        {
          "output_type": "stream",
          "text": [
            "Enter a sentence : at the moment that i knowe i fucked up\n",
            "The emotion predicted is anger\n"
          ],
          "name": "stdout"
        },
        {
          "output_type": "stream",
          "text": [
            "/usr/local/lib/python3.6/dist-packages/tensorflow/python/keras/engine/sequential.py:450: UserWarning: `model.predict_classes()` is deprecated and will be removed after 2021-01-01. Please use instead:* `np.argmax(model.predict(x), axis=-1)`,   if your model does multi-class classification   (e.g. if it uses a `softmax` last-layer activation).* `(model.predict(x) > 0.5).astype(\"int32\")`,   if your model does binary classification   (e.g. if it uses a `sigmoid` last-layer activation).\n",
            "  warnings.warn('`model.predict_classes()` is deprecated and '\n"
          ],
          "name": "stderr"
        }
      ]
    },
    {
      "cell_type": "code",
      "metadata": {
        "id": "87Z2djYzrPQD"
      },
      "source": [
        "predict(str(input('Enter a sentence : ')))"
      ],
      "execution_count": null,
      "outputs": []
    },
    {
      "cell_type": "code",
      "metadata": {
        "id": "vsshBZwgrPSo"
      },
      "source": [
        "predict(str(input('Enter a sentence : ')))"
      ],
      "execution_count": null,
      "outputs": []
    }
  ]
}